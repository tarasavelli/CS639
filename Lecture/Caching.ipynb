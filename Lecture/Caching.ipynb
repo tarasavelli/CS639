{
 "cells": [
  {
   "cell_type": "code",
   "execution_count": 5,
   "id": "7909a97f-e52b-44ae-a31a-2569410bd171",
   "metadata": {},
   "outputs": [],
   "source": [
    "import pandas as pd\n",
    "import requests, random\n",
    "\n",
    "r = requests.get(\"https://pages.cs.wisc.edu/~harter/cs639/data/wi-stations/stations.txt\")\n",
    "r.raise_for_status()\n",
    "stations = r.text.strip().split(\"\\n\")\n",
    "stations = random.sample(stations, k=10)\n",
    "workload = random.choices(stations, k=100, weights=[0.3, 0.2] + [0.5/8]*8)\n"
   ]
  },
  {
   "cell_type": "code",
   "execution_count": 6,
   "id": "b2c992fb-8684-457f-ade0-ea3aee81bb68",
   "metadata": {},
   "outputs": [
    {
     "data": {
      "text/plain": [
       "['US1WISC0007',\n",
       " 'US1WIWH0008',\n",
       " 'US1WICR0006',\n",
       " 'US1WISC0007',\n",
       " 'US1WIWH0008',\n",
       " 'US1WISC0007',\n",
       " 'US1WISC0007',\n",
       " 'US1WISB0026',\n",
       " 'US1WIWH0008',\n",
       " 'US1WISB0026',\n",
       " 'US1WISC0007',\n",
       " 'US1WISC0007',\n",
       " 'US1WISC0007',\n",
       " 'US1WIMT0009',\n",
       " 'USC00475516',\n",
       " 'US1WIWK0009',\n",
       " 'US1WISC0007',\n",
       " 'US1WIWH0008',\n",
       " 'US1WIWK0009',\n",
       " 'US1WISC0007',\n",
       " 'US1WIMT0009',\n",
       " 'US1WIWH0008',\n",
       " 'US1WISC0007',\n",
       " 'US1WISC0007',\n",
       " 'US1WIWH0008',\n",
       " 'US1WISC0007',\n",
       " 'US1WIDA0025',\n",
       " 'US1WIDA0025',\n",
       " 'US1WICR0006',\n",
       " 'US1WISC0007',\n",
       " 'US1WISC0007',\n",
       " 'US1WICR0006',\n",
       " 'US1WISC0007',\n",
       " 'US1WIWH0008',\n",
       " 'US1WISC0007',\n",
       " 'USC00475516',\n",
       " 'US1WIWH0008',\n",
       " 'US1WISC0007',\n",
       " 'US1WICR0006',\n",
       " 'US1WIWH0008',\n",
       " 'US1WICR0006',\n",
       " 'US1WIDA0025',\n",
       " 'US1WIWH0008',\n",
       " 'US1WIMT0009',\n",
       " 'US1WISC0007',\n",
       " 'US1WIMT0009',\n",
       " 'US1WIWH0008',\n",
       " 'US1WIWH0008',\n",
       " 'US1WIWH0008',\n",
       " 'US1WIMT0009',\n",
       " 'US1WIMT0009',\n",
       " 'US1WISC0007',\n",
       " 'US1WISC0007',\n",
       " 'US1WIMT0009',\n",
       " 'US1WISB0026',\n",
       " 'US1WISC0007',\n",
       " 'US1WISC0007',\n",
       " 'USC00475516',\n",
       " 'US1WIWK0009',\n",
       " 'US1WIMT0009',\n",
       " 'US1WISC0007',\n",
       " 'US1WIWH0008',\n",
       " 'US1WICR0006',\n",
       " 'US1WISC0007',\n",
       " 'US1WIMT0009',\n",
       " 'US1WIDA0025',\n",
       " 'US1WISC0007',\n",
       " 'US1WIDA0025',\n",
       " 'US1WISC0007',\n",
       " 'US1WISC0007',\n",
       " 'US1WICR0006',\n",
       " 'US1WIWH0008',\n",
       " 'US1WIMT0009',\n",
       " 'USC00475516',\n",
       " 'US1WISB0026',\n",
       " 'US1WIWH0008',\n",
       " 'US1WISC0007',\n",
       " 'USC00475516',\n",
       " 'US1WISC0007',\n",
       " 'US1WISB0026',\n",
       " 'US1WIWK0009',\n",
       " 'US1WIWH0008',\n",
       " 'US1WISC0007',\n",
       " 'US1WIWK0009',\n",
       " 'US1WIWH0008',\n",
       " 'US1WIWH0008',\n",
       " 'US1WIWH0008',\n",
       " 'US1WIWK0009',\n",
       " 'US1WIWH0008',\n",
       " 'US1WIPP0012',\n",
       " 'USC00475516',\n",
       " 'US1WISB0026',\n",
       " 'US1WIWH0008',\n",
       " 'US1WIWH0008',\n",
       " 'US1WIWH0008',\n",
       " 'US1WISC0007',\n",
       " 'US1WISC0007',\n",
       " 'US1WISB0026',\n",
       " 'US1WISC0007',\n",
       " 'US1WIDA0025']"
      ]
     },
     "execution_count": 6,
     "metadata": {},
     "output_type": "execute_result"
    }
   ],
   "source": [
    "workload"
   ]
  },
  {
   "cell_type": "code",
   "execution_count": 17,
   "id": "d30bb9e2-cbb1-4dd9-976b-e88a62aa5178",
   "metadata": {},
   "outputs": [
    {
     "name": "stderr",
     "output_type": "stream",
     "text": [
      "/tmp/ipykernel_35018/2531845661.py:25: DtypeWarning: Columns (6) have mixed types. Specify dtype option on import or set low_memory=False.\n",
      "  df = pd.read_csv(f\"https://pages.cs.wisc.edu/~harter/cs639/data/wi-stations/{station}.csv.gz\",\n",
      "/tmp/ipykernel_35018/2531845661.py:25: DtypeWarning: Columns (6) have mixed types. Specify dtype option on import or set low_memory=False.\n",
      "  df = pd.read_csv(f\"https://pages.cs.wisc.edu/~harter/cs639/data/wi-stations/{station}.csv.gz\",\n",
      "/tmp/ipykernel_35018/2531845661.py:25: DtypeWarning: Columns (6) have mixed types. Specify dtype option on import or set low_memory=False.\n",
      "  df = pd.read_csv(f\"https://pages.cs.wisc.edu/~harter/cs639/data/wi-stations/{station}.csv.gz\",\n",
      "/tmp/ipykernel_35018/2531845661.py:25: DtypeWarning: Columns (6) have mixed types. Specify dtype option on import or set low_memory=False.\n",
      "  df = pd.read_csv(f\"https://pages.cs.wisc.edu/~harter/cs639/data/wi-stations/{station}.csv.gz\",\n",
      "/tmp/ipykernel_35018/2531845661.py:25: DtypeWarning: Columns (6) have mixed types. Specify dtype option on import or set low_memory=False.\n",
      "  df = pd.read_csv(f\"https://pages.cs.wisc.edu/~harter/cs639/data/wi-stations/{station}.csv.gz\",\n"
     ]
    },
    {
     "name": "stdout",
     "output_type": "stream",
     "text": [
      "0.66\n",
      "158.44350702622359\n"
     ]
    }
   ],
   "source": [
    "import time\n",
    "\n",
    "cache = {} # key is the station, value in the DF\n",
    "evict_order = []\n",
    "cache_size = 4\n",
    "\n",
    "#STATISTICS: HIT RATE AND AVERAGE LATENCY\n",
    "hits = []\n",
    "latencies = []\n",
    "\n",
    "def get_df(station):\n",
    "    \n",
    "    start = time.time()\n",
    "    if station in cache:\n",
    "        ## LRU cache must increase prriority when somethine in the cache is used\n",
    "        \n",
    "        evict_order.remove(station)\n",
    "        evict_order.append(station)\n",
    "        ##print(\"hit\")\n",
    "        hits.append(1)\n",
    "        return cache[station]\n",
    "    else:\n",
    "        ##print(\"miss\")\n",
    "        hits.append(0)\n",
    "        df = pd.read_csv(f\"https://pages.cs.wisc.edu/~harter/cs639/data/wi-stations/{station}.csv.gz\",\n",
    "                         names=[\"station\", \"date\", \"element\", \"value\", \"m\", \"q\", \"s\", \"obs\"])\n",
    "        cache[station] = df\n",
    "        evict_order.append(station)\n",
    "        if(len(cache) > cache_size):\n",
    "            ##print(\"evict\")\n",
    "            victim = evict_order.pop(0)\n",
    "            cache.pop(victim)\n",
    "            \n",
    "    \n",
    "        end = time.time()\n",
    "        latencies.append((end - start) * 1000)\n",
    "        \n",
    "        return df\n",
    "\n",
    "\n",
    "for station in workload[:100]:\n",
    "    df = get_df(station)\n",
    "\n",
    "\n",
    "\n",
    "print(sum(hits)/len(hits)) # hit rate\n",
    "print(sum(latencies)/len(latencies)) # average latency\n",
    "      "
   ]
  },
  {
   "cell_type": "code",
   "execution_count": 18,
   "id": "23fa6320-3499-483a-b1f0-3f26de96bcd8",
   "metadata": {},
   "outputs": [
    {
     "data": {
      "text/plain": [
       "460.20774841308594"
      ]
     },
     "execution_count": 18,
     "metadata": {},
     "output_type": "execute_result"
    }
   ],
   "source": [
    "# tail latency: latency at a high peercentile\n",
    "\n",
    "import numpy as np\n",
    "np.quantile(latencies, .9) ## will get the 90th percentile latency\n",
    "## will print the latency value where 90 percent are faster than the quanitle and 10 percent are slower."
   ]
  },
  {
   "cell_type": "code",
   "execution_count": null,
   "id": "61edb6fd-203e-4e07-8d24-e29b3f272c88",
   "metadata": {},
   "outputs": [],
   "source": []
  }
 ],
 "metadata": {
  "kernelspec": {
   "display_name": "Python 3 (ipykernel)",
   "language": "python",
   "name": "python3"
  },
  "language_info": {
   "codemirror_mode": {
    "name": "ipython",
    "version": 3
   },
   "file_extension": ".py",
   "mimetype": "text/x-python",
   "name": "python",
   "nbconvert_exporter": "python",
   "pygments_lexer": "ipython3",
   "version": "3.10.6"
  }
 },
 "nbformat": 4,
 "nbformat_minor": 5
}
