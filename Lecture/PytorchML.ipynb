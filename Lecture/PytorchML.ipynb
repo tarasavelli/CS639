{
 "cells": [
  {
   "cell_type": "code",
   "execution_count": 17,
   "id": "7a6296d3-f26b-4790-8585-7052022634cc",
   "metadata": {},
   "outputs": [
    {
     "name": "stdout",
     "output_type": "stream",
     "text": [
      "Defaulting to user installation because normal site-packages is not writeable\n",
      "Requirement already satisfied: matplotlib in /home/teddyarasavelli/.local/lib/python3.10/site-packages (3.6.3)\n",
      "Requirement already satisfied: fonttools>=4.22.0 in /home/teddyarasavelli/.local/lib/python3.10/site-packages (from matplotlib) (4.38.0)\n",
      "Requirement already satisfied: python-dateutil>=2.7 in /home/teddyarasavelli/.local/lib/python3.10/site-packages (from matplotlib) (2.8.2)\n",
      "Requirement already satisfied: pyparsing>=2.2.1 in /usr/lib/python3/dist-packages (from matplotlib) (2.4.7)\n",
      "Requirement already satisfied: packaging>=20.0 in /home/teddyarasavelli/.local/lib/python3.10/site-packages (from matplotlib) (23.0)\n",
      "Requirement already satisfied: pillow>=6.2.0 in /home/teddyarasavelli/.local/lib/python3.10/site-packages (from matplotlib) (9.4.0)\n",
      "Requirement already satisfied: contourpy>=1.0.1 in /home/teddyarasavelli/.local/lib/python3.10/site-packages (from matplotlib) (1.0.7)\n",
      "Requirement already satisfied: cycler>=0.10 in /home/teddyarasavelli/.local/lib/python3.10/site-packages (from matplotlib) (0.11.0)\n",
      "Requirement already satisfied: kiwisolver>=1.0.1 in /home/teddyarasavelli/.local/lib/python3.10/site-packages (from matplotlib) (1.4.4)\n",
      "Requirement already satisfied: numpy>=1.19 in /home/teddyarasavelli/.local/lib/python3.10/site-packages (from matplotlib) (1.24.2)\n",
      "Requirement already satisfied: six>=1.5 in /usr/lib/python3/dist-packages (from python-dateutil>=2.7->matplotlib) (1.16.0)\n"
     ]
    },
    {
     "name": "stderr",
     "output_type": "stream",
     "text": [
      "/tmp/ipykernel_60934/2727945046.py:7: DtypeWarning: Columns (5) have mixed types. Specify dtype option on import or set low_memory=False.\n",
      "  df = pd.read_csv(path, names=[\"station\", \"date\", \"element\", \"value\", \"m\", \"q\", \"s\", \"obs\"])\n"
     ]
    }
   ],
   "source": [
    "!pip3 install matplotlib\n",
    "\n",
    "import torch\n",
    "import pandas as pd\n",
    "from matplotlib import pyplot\n",
    "path = \"https://pages.cs.wisc.edu/~harter/cs639/data/wi-stations/USW00014837.csv.gz\"\n",
    "df = pd.read_csv(path, names=[\"station\", \"date\", \"element\", \"value\", \"m\", \"q\", \"s\", \"obs\"])\n",
    "\n",
    "#https://pages.cs.wisc.edu/~harter/cs639/data/wi-stations/USW00014839.csv.gz\n"
   ]
  },
  {
   "cell_type": "code",
   "execution_count": 18,
   "id": "5de9ec01-da49-4737-8d28-6166dd0e4d57",
   "metadata": {},
   "outputs": [],
   "source": [
    "##df = pd.read_csv(\"https://archive.ics.uci.edu/ml/machine-learning-databases/iris/iris.data\", names=[\"x0\", \"x1\", \"x2\", \"x3\", \"variety\"])\n",
    "##df.head()\n"
   ]
  },
  {
   "cell_type": "code",
   "execution_count": 20,
   "id": "70e68351-c07b-4453-80d1-eee66b7603a8",
   "metadata": {},
   "outputs": [
    {
     "data": {
      "text/plain": [
       "0          True\n",
       "1          True\n",
       "2          True\n",
       "3          True\n",
       "4          True\n",
       "          ...  \n",
       "409846    False\n",
       "409847    False\n",
       "409848    False\n",
       "409849    False\n",
       "409850    False\n",
       "Name: element, Length: 409851, dtype: bool"
      ]
     },
     "execution_count": 20,
     "metadata": {},
     "output_type": "execute_result"
    }
   ],
   "source": [
    "df[\"element\"].isin([\"TMIN\", \"TMAX\"])"
   ]
  },
  {
   "cell_type": "code",
   "execution_count": 21,
   "id": "84d514dd-c6bd-4b19-ac05-1ab7b792b107",
   "metadata": {},
   "outputs": [
    {
     "data": {
      "text/html": [
       "<div>\n",
       "<style scoped>\n",
       "    .dataframe tbody tr th:only-of-type {\n",
       "        vertical-align: middle;\n",
       "    }\n",
       "\n",
       "    .dataframe tbody tr th {\n",
       "        vertical-align: top;\n",
       "    }\n",
       "\n",
       "    .dataframe thead th {\n",
       "        text-align: right;\n",
       "    }\n",
       "</style>\n",
       "<table border=\"1\" class=\"dataframe\">\n",
       "  <thead>\n",
       "    <tr style=\"text-align: right;\">\n",
       "      <th></th>\n",
       "      <th>station</th>\n",
       "      <th>date</th>\n",
       "      <th>element</th>\n",
       "      <th>value</th>\n",
       "      <th>m</th>\n",
       "      <th>q</th>\n",
       "      <th>s</th>\n",
       "      <th>obs</th>\n",
       "    </tr>\n",
       "  </thead>\n",
       "  <tbody>\n",
       "    <tr>\n",
       "      <th>0</th>\n",
       "      <td>USW00014837</td>\n",
       "      <td>19391001</td>\n",
       "      <td>TMAX</td>\n",
       "      <td>194</td>\n",
       "      <td>NaN</td>\n",
       "      <td>NaN</td>\n",
       "      <td>X</td>\n",
       "      <td>NaN</td>\n",
       "    </tr>\n",
       "    <tr>\n",
       "      <th>1</th>\n",
       "      <td>USW00014837</td>\n",
       "      <td>19391002</td>\n",
       "      <td>TMAX</td>\n",
       "      <td>211</td>\n",
       "      <td>NaN</td>\n",
       "      <td>NaN</td>\n",
       "      <td>X</td>\n",
       "      <td>NaN</td>\n",
       "    </tr>\n",
       "    <tr>\n",
       "      <th>2</th>\n",
       "      <td>USW00014837</td>\n",
       "      <td>19391003</td>\n",
       "      <td>TMAX</td>\n",
       "      <td>233</td>\n",
       "      <td>NaN</td>\n",
       "      <td>NaN</td>\n",
       "      <td>X</td>\n",
       "      <td>NaN</td>\n",
       "    </tr>\n",
       "    <tr>\n",
       "      <th>3</th>\n",
       "      <td>USW00014837</td>\n",
       "      <td>19391004</td>\n",
       "      <td>TMAX</td>\n",
       "      <td>272</td>\n",
       "      <td>NaN</td>\n",
       "      <td>NaN</td>\n",
       "      <td>X</td>\n",
       "      <td>NaN</td>\n",
       "    </tr>\n",
       "    <tr>\n",
       "      <th>4</th>\n",
       "      <td>USW00014837</td>\n",
       "      <td>19391005</td>\n",
       "      <td>TMAX</td>\n",
       "      <td>211</td>\n",
       "      <td>NaN</td>\n",
       "      <td>NaN</td>\n",
       "      <td>X</td>\n",
       "      <td>NaN</td>\n",
       "    </tr>\n",
       "    <tr>\n",
       "      <th>...</th>\n",
       "      <td>...</td>\n",
       "      <td>...</td>\n",
       "      <td>...</td>\n",
       "      <td>...</td>\n",
       "      <td>...</td>\n",
       "      <td>...</td>\n",
       "      <td>...</td>\n",
       "      <td>...</td>\n",
       "    </tr>\n",
       "    <tr>\n",
       "      <th>409648</th>\n",
       "      <td>USW00014837</td>\n",
       "      <td>20230116</td>\n",
       "      <td>TMIN</td>\n",
       "      <td>22</td>\n",
       "      <td>NaN</td>\n",
       "      <td>NaN</td>\n",
       "      <td>D</td>\n",
       "      <td>2400.0</td>\n",
       "    </tr>\n",
       "    <tr>\n",
       "      <th>409649</th>\n",
       "      <td>USW00014837</td>\n",
       "      <td>20230117</td>\n",
       "      <td>TMIN</td>\n",
       "      <td>17</td>\n",
       "      <td>NaN</td>\n",
       "      <td>NaN</td>\n",
       "      <td>W</td>\n",
       "      <td>2400.0</td>\n",
       "    </tr>\n",
       "    <tr>\n",
       "      <th>409650</th>\n",
       "      <td>USW00014837</td>\n",
       "      <td>20230118</td>\n",
       "      <td>TMIN</td>\n",
       "      <td>0</td>\n",
       "      <td>NaN</td>\n",
       "      <td>NaN</td>\n",
       "      <td>W</td>\n",
       "      <td>2400.0</td>\n",
       "    </tr>\n",
       "    <tr>\n",
       "      <th>409651</th>\n",
       "      <td>USW00014837</td>\n",
       "      <td>20230119</td>\n",
       "      <td>TMIN</td>\n",
       "      <td>0</td>\n",
       "      <td>NaN</td>\n",
       "      <td>NaN</td>\n",
       "      <td>W</td>\n",
       "      <td>2400.0</td>\n",
       "    </tr>\n",
       "    <tr>\n",
       "      <th>409652</th>\n",
       "      <td>USW00014837</td>\n",
       "      <td>20230120</td>\n",
       "      <td>TMIN</td>\n",
       "      <td>-32</td>\n",
       "      <td>NaN</td>\n",
       "      <td>NaN</td>\n",
       "      <td>W</td>\n",
       "      <td>2400.0</td>\n",
       "    </tr>\n",
       "  </tbody>\n",
       "</table>\n",
       "<p>60856 rows × 8 columns</p>\n",
       "</div>"
      ],
      "text/plain": [
       "            station      date element  value    m    q  s     obs\n",
       "0       USW00014837  19391001    TMAX    194  NaN  NaN  X     NaN\n",
       "1       USW00014837  19391002    TMAX    211  NaN  NaN  X     NaN\n",
       "2       USW00014837  19391003    TMAX    233  NaN  NaN  X     NaN\n",
       "3       USW00014837  19391004    TMAX    272  NaN  NaN  X     NaN\n",
       "4       USW00014837  19391005    TMAX    211  NaN  NaN  X     NaN\n",
       "...             ...       ...     ...    ...  ...  ... ..     ...\n",
       "409648  USW00014837  20230116    TMIN     22  NaN  NaN  D  2400.0\n",
       "409649  USW00014837  20230117    TMIN     17  NaN  NaN  W  2400.0\n",
       "409650  USW00014837  20230118    TMIN      0  NaN  NaN  W  2400.0\n",
       "409651  USW00014837  20230119    TMIN      0  NaN  NaN  W  2400.0\n",
       "409652  USW00014837  20230120    TMIN    -32  NaN  NaN  W  2400.0\n",
       "\n",
       "[60856 rows x 8 columns]"
      ]
     },
     "execution_count": 21,
     "metadata": {},
     "output_type": "execute_result"
    }
   ],
   "source": [
    "df2 = df[df[\"element\"].isin([\"TMIN\", \"TMAX\"])]\n",
    "df2"
   ]
  },
  {
   "cell_type": "code",
   "execution_count": 22,
   "id": "89a631c7-5b20-405e-8a04-6698d0b8c8c8",
   "metadata": {},
   "outputs": [
    {
     "data": {
      "text/plain": [
       "<AxesSubplot: xlabel='TMIN', ylabel='TMAX'>"
      ]
     },
     "execution_count": 22,
     "metadata": {},
     "output_type": "execute_result"
    },
    {
     "data": {
      "image/png": "[encoded data removed]",
      "text/plain": [
       "<Figure size 640x480 with 1 Axes>"
      ]
     },
     "metadata": {},
     "output_type": "display_data"
    }
   ],
   "source": [
    "# GOAL: predict tmax given tmin\n",
    "\n",
    "temps = df2.pivot(index = \"date\", columns = \"element\", values = \"value\")\n",
    "temps\n",
    "\n",
    "temps.plot.scatter(x = \"TMIN\", y = \"TMAX\")"
   ]
  },
  {
   "cell_type": "code",
   "execution_count": 23,
   "id": "afe96287-7ad3-481a-a5ce-a895ce202efb",
   "metadata": {},
   "outputs": [
    {
     "data": {
      "text/plain": [
       "tensor([[194.],\n",
       "        [211.],\n",
       "        [233.],\n",
       "        ...,\n",
       "        [ 28.],\n",
       "        [ 22.],\n",
       "        [  0.]])"
      ]
     },
     "execution_count": 23,
     "metadata": {},
     "output_type": "execute_result"
    }
   ],
   "source": [
    "# Pytorch Data:\n",
    "# 1. Dataset\n",
    "# 2. DataLoader: use Dataset and provides shuffling and batching\n",
    "\n",
    "torch.tensor(temps[[\"TMAX\"]].values, dtype = torch.float32)"
   ]
  },
  {
   "cell_type": "code",
   "execution_count": 24,
   "id": "f8b816dc-137c-433d-8b5c-5a466895878d",
   "metadata": {},
   "outputs": [
    {
     "data": {
      "text/plain": [
       "(tensor([33.]), tensor([211.]))"
      ]
     },
     "execution_count": 24,
     "metadata": {},
     "output_type": "execute_result"
    }
   ],
   "source": [
    "ds = torch.utils.data.TensorDataset(\n",
    "    torch.tensor(temps[[\"TMIN\"]].values, dtype = torch.float32),\n",
    "    torch.tensor(temps[[\"TMAX\"]].values, dtype = torch.float32)\n",
    ")\n",
    "\n",
    "ds[1]\n",
    "    "
   ]
  },
  {
   "cell_type": "code",
   "execution_count": 25,
   "id": "31a170c5-3a9e-4511-b712-21d6ad311a33",
   "metadata": {},
   "outputs": [
    {
     "name": "stderr",
     "output_type": "stream",
     "text": [
      "/tmp/ipykernel_60934/1941232278.py:3: DtypeWarning: Columns (5) have mixed types. Specify dtype option on import or set low_memory=False.\n",
      "  df = pd.read_csv(path, names=[\"station\", \"date\", \"element\", \"value\", \"m\", \"q\", \"s\", \"obs\"])\n"
     ]
    },
    {
     "data": {
      "text/plain": [
       "30428"
      ]
     },
     "execution_count": 25,
     "metadata": {},
     "output_type": "execute_result"
    }
   ],
   "source": [
    "class TempDS(torch.utils.data.dataset.Dataset):\n",
    "    def __init__(self, path):\n",
    "        df = pd.read_csv(path, names=[\"station\", \"date\", \"element\", \"value\", \"m\", \"q\", \"s\", \"obs\"])\n",
    "        df2 = df[df[\"element\"].isin([\"TMIN\", \"TMAX\"])]\n",
    "        temps = df2.pivot(index = \"date\", columns = \"element\", values = \"value\")\n",
    "        self.X = torch.tensor(temps[[\"TMIN\"]].values, dtype = torch.float32)\n",
    "        self.Y = torch.tensor(temps[[\"TMAX\"]].values, dtype = torch.float32)\n",
    "    \n",
    "    def __getitem__(self, index):\n",
    "        return self.X[index], self.Y[index]\n",
    "    \n",
    "    def __len__(self):\n",
    "        return len(self.X)\n",
    "    \n",
    "df = TempDS(path)\n",
    "\n",
    "len(df)"
   ]
  },
  {
   "cell_type": "code",
   "execution_count": 29,
   "id": "504330c0-f100-40ea-b932-74dae4ae78a7",
   "metadata": {},
   "outputs": [
    {
     "name": "stdout",
     "output_type": "stream",
     "text": [
      "tensor([[  89.],\n",
      "        [-167.],\n",
      "        [  56.],\n",
      "        [ 117.],\n",
      "        [  94.],\n",
      "        [-194.],\n",
      "        [ 189.],\n",
      "        [ -61.],\n",
      "        [ -94.],\n",
      "        [ -50.]])\n",
      "tensor([[283.],\n",
      "        [-39.],\n",
      "        [133.],\n",
      "        [300.],\n",
      "        [183.],\n",
      "        [-94.],\n",
      "        [311.],\n",
      "        [ 33.],\n",
      "        [-33.],\n",
      "        [ 72.]])\n",
      "0 tensor(13120.4102, grad_fn=<MseLossBackward0>)\n",
      "1 tensor(11319.5996, grad_fn=<MseLossBackward0>)\n",
      "2 tensor(10314.5732, grad_fn=<MseLossBackward0>)\n",
      "3 tensor(9520.1143, grad_fn=<MseLossBackward0>)\n",
      "4 tensor(8833.1816, grad_fn=<MseLossBackward0>)\n",
      "5 tensor(8043.5356, grad_fn=<MseLossBackward0>)\n",
      "6 tensor(7363.4404, grad_fn=<MseLossBackward0>)\n",
      "7 tensor(6783.1387, grad_fn=<MseLossBackward0>)\n",
      "8 tensor(6170.1968, grad_fn=<MseLossBackward0>)\n",
      "9 tensor(5770.0854, grad_fn=<MseLossBackward0>)\n",
      "10 tensor(5314.3125, grad_fn=<MseLossBackward0>)\n",
      "11 tensor(5079.6768, grad_fn=<MseLossBackward0>)\n",
      "12 tensor(4738.7388, grad_fn=<MseLossBackward0>)\n",
      "13 tensor(4411.3179, grad_fn=<MseLossBackward0>)\n",
      "14 tensor(4312.7407, grad_fn=<MseLossBackward0>)\n",
      "15 tensor(3910.4170, grad_fn=<MseLossBackward0>)\n",
      "16 tensor(3749.4224, grad_fn=<MseLossBackward0>)\n",
      "17 tensor(3540.9016, grad_fn=<MseLossBackward0>)\n",
      "18 tensor(3384.6228, grad_fn=<MseLossBackward0>)\n",
      "19 tensor(3214.3662, grad_fn=<MseLossBackward0>)\n",
      "20 tensor(3145.5918, grad_fn=<MseLossBackward0>)\n",
      "21 tensor(2961.0999, grad_fn=<MseLossBackward0>)\n",
      "22 tensor(3014.4717, grad_fn=<MseLossBackward0>)\n",
      "23 tensor(2947.6118, grad_fn=<MseLossBackward0>)\n",
      "24 tensor(2702.4377, grad_fn=<MseLossBackward0>)\n",
      "25 tensor(2667.3796, grad_fn=<MseLossBackward0>)\n",
      "26 tensor(2570.3818, grad_fn=<MseLossBackward0>)\n",
      "27 tensor(2526.5642, grad_fn=<MseLossBackward0>)\n",
      "28 tensor(2455.9822, grad_fn=<MseLossBackward0>)\n",
      "29 tensor(2408.8362, grad_fn=<MseLossBackward0>)\n",
      "30 tensor(2373.5869, grad_fn=<MseLossBackward0>)\n",
      "31 tensor(2336.5986, grad_fn=<MseLossBackward0>)\n",
      "32 tensor(2366.3049, grad_fn=<MseLossBackward0>)\n",
      "33 tensor(2285.9763, grad_fn=<MseLossBackward0>)\n",
      "34 tensor(2251.7295, grad_fn=<MseLossBackward0>)\n",
      "35 tensor(2245.7268, grad_fn=<MseLossBackward0>)\n",
      "36 tensor(2210.3223, grad_fn=<MseLossBackward0>)\n",
      "37 tensor(2194.7810, grad_fn=<MseLossBackward0>)\n",
      "38 tensor(2184.6006, grad_fn=<MseLossBackward0>)\n",
      "39 tensor(2173.2351, grad_fn=<MseLossBackward0>)\n",
      "40 tensor(2151.6265, grad_fn=<MseLossBackward0>)\n",
      "41 tensor(2143.0413, grad_fn=<MseLossBackward0>)\n",
      "42 tensor(2142.5974, grad_fn=<MseLossBackward0>)\n",
      "43 tensor(2282.3877, grad_fn=<MseLossBackward0>)\n",
      "44 tensor(2114.5344, grad_fn=<MseLossBackward0>)\n",
      "45 tensor(2114.6123, grad_fn=<MseLossBackward0>)\n",
      "46 tensor(2176.7805, grad_fn=<MseLossBackward0>)\n",
      "47 tensor(2101.1831, grad_fn=<MseLossBackward0>)\n",
      "48 tensor(2091.6101, grad_fn=<MseLossBackward0>)\n",
      "49 tensor(2090.9170, grad_fn=<MseLossBackward0>)\n"
     ]
    }
   ],
   "source": [
    "model = torch.nn.Linear(1, 1)\n",
    "\n",
    "\n",
    "dl = torch.utils.data.DataLoader(ds, shuffle = True, batch_size = 10)\n",
    "optimizer = torch.optim.SGD([model.weight, model.bias], lr = .00001)\n",
    "loss_fn = torch.nn.MSELoss()\n",
    "\n",
    "for x, y in dl:\n",
    "    print(x)\n",
    "    print(y)\n",
    "    break\n",
    "\n",
    "for epoch in range(50):\n",
    "    for batchx, batchy in dl:\n",
    "        predictedy = model(batchx)\n",
    "        loss = loss_fn(batchy, predictedy)\n",
    "        loss.backward() # upddates weight.grad and loss.grad\n",
    "        optimizer.step()\n",
    "        optimizer.zero_grad() # weight.grad = 0 and bias.grad = 0\n",
    "    \n",
    "    x, y = ds[:]\n",
    "    print(epoch, loss_fn(y, model(x)))"
   ]
  },
  {
   "cell_type": "code",
   "execution_count": null,
   "id": "1055537c-db42-4e8e-8673-b8a82c324a36",
   "metadata": {},
   "outputs": [],
   "source": []
  }
 ],
 "metadata": {
  "kernelspec": {
   "display_name": "Python 3 (ipykernel)",
   "language": "python",
   "name": "python3"
  },
  "language_info": {
   "codemirror_mode": {
    "name": "ipython",
    "version": 3
   },
   "file_extension": ".py",
   "mimetype": "text/x-python",
   "name": "python",
   "nbconvert_exporter": "python",
   "pygments_lexer": "ipython3",
   "version": "3.10.6"
  }
 },
 "nbformat": 4,
 "nbformat_minor": 5
}
