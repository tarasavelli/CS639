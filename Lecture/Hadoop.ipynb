{
 "cells": [
  {
   "cell_type": "code",
   "execution_count": 1,
   "id": "1d44196a-08b2-4c7b-bcdc-a66527548a94",
   "metadata": {},
   "outputs": [],
   "source": [
    "import requests\n"
   ]
  },
  {
   "cell_type": "code",
   "execution_count": null,
   "id": "dc30faf5-e63e-44f5-8164-c2b82d8c4ebd",
   "metadata": {},
   "outputs": [],
   "source": [
    "! curl -i \"http://fcs3336bc971:9870/webhdfs/vs/data?op=LISTSTATUS\"\n",
    "\n",
    "resp = requests.get(\"http://fcs3336bc971:9870/webhdfs/vs/data?op=LISTSTATUS\")\n",
    "# getting status code\n",
    "code = resp.status_code\n",
    "## getting response heaers (json headders of response)\n",
    "resp.headers\n",
    "\n",
    "## getting the content\n",
    "resp.content\n",
    "data = resp.json()\n",
    "\n",
    "\n"
   ]
  },
  {
   "cell_type": "code",
   "execution_count": 2,
   "id": "b98ba367-1cee-4d76-86f9-f98483471f88",
   "metadata": {},
   "outputs": [],
   "source": [
    "!touch test.txt\n",
    "\n",
    "f = open(\"test.txt\")"
   ]
  },
  {
   "cell_type": "code",
   "execution_count": 3,
   "id": "656a7cb5-3b5a-456e-9ec8-142bc3042038",
   "metadata": {},
   "outputs": [
    {
     "data": {
      "text/plain": [
       "_io.TextIOWrapper"
      ]
     },
     "execution_count": 3,
     "metadata": {},
     "output_type": "execute_result"
    }
   ],
   "source": [
    "type(f)"
   ]
  },
  {
   "cell_type": "code",
   "execution_count": 6,
   "id": "d36b567e-8cf2-4d01-84a2-7a1743e63776",
   "metadata": {},
   "outputs": [
    {
     "data": {
      "text/plain": [
       "['__class__',\n",
       " '__del__',\n",
       " '__delattr__',\n",
       " '__dict__',\n",
       " '__dir__',\n",
       " '__doc__',\n",
       " '__enter__',\n",
       " '__eq__',\n",
       " '__exit__',\n",
       " '__format__',\n",
       " '__ge__',\n",
       " '__getattribute__',\n",
       " '__gt__',\n",
       " '__hash__',\n",
       " '__init__',\n",
       " '__init_subclass__',\n",
       " '__iter__',\n",
       " '__le__',\n",
       " '__lt__',\n",
       " '__ne__',\n",
       " '__new__',\n",
       " '__next__',\n",
       " '__reduce__',\n",
       " '__reduce_ex__',\n",
       " '__repr__',\n",
       " '__setattr__',\n",
       " '__sizeof__',\n",
       " '__str__',\n",
       " '__subclasshook__',\n",
       " '_checkClosed',\n",
       " '_checkReadable',\n",
       " '_checkSeekable',\n",
       " '_checkWritable',\n",
       " '_dealloc_warn',\n",
       " '_finalizing',\n",
       " 'close',\n",
       " 'closed',\n",
       " 'detach',\n",
       " 'fileno',\n",
       " 'flush',\n",
       " 'isatty',\n",
       " 'mode',\n",
       " 'name',\n",
       " 'peek',\n",
       " 'raw',\n",
       " 'read',\n",
       " 'read1',\n",
       " 'readable',\n",
       " 'readinto',\n",
       " 'readinto1',\n",
       " 'readline',\n",
       " 'readlines',\n",
       " 'seek',\n",
       " 'seekable',\n",
       " 'tell',\n",
       " 'truncate',\n",
       " 'writable',\n",
       " 'write',\n",
       " 'writelines']"
      ]
     },
     "execution_count": 6,
     "metadata": {},
     "output_type": "execute_result"
    }
   ],
   "source": [
    "dir(f.buffer) # buffering: using memory to do larger reads and writes\n",
    "dir(f.buffer.raw) # actually about transferring the bytes"
   ]
  },
  {
   "cell_type": "code",
   "execution_count": 1,
   "id": "b1438b41-37f9-4d1b-9e4b-9085ac6b24c3",
   "metadata": {},
   "outputs": [
    {
     "data": {
      "text/plain": [
       "bytearray(b'100101102103104105106107108109110\\x00\\x00\\x00\\x00\\x00\\x00\\x00\\x00\\x00\\x00\\x00\\x00\\x00\\x00\\x00\\x00\\x00')"
      ]
     },
     "execution_count": 1,
     "metadata": {},
     "output_type": "execute_result"
    }
   ],
   "source": [
    "import io\n",
    "\n",
    "##io.TextIOWrapper(io.BufferedReader(IntFile()))\n",
    "\n",
    "class IntFile(io.RawIOBase):\n",
    "    def __init__(self):\n",
    "        self.num = 100\n",
    "    def readable(self):\n",
    "        return True\n",
    "    def readinto(self, buffer):\n",
    "        offset = 0\n",
    "        # filling buffer so long as it has space\n",
    "        while self.num <= 110:\n",
    "            text = bytes(str(self.num), \"utf-8\")\n",
    "            if offset + len(text) < len(buffer):\n",
    "                buffer[offset : offset + len(text)] = text\n",
    "                self.num += 1\n",
    "                offset += len(text)\n",
    "            else:\n",
    "                break\n",
    "                \n",
    "            \n",
    "        return offset ## number of bytes filled in    \n",
    "        print(\"DO HERE\")\n",
    "        \n",
    "buf = bytearray(50)\n",
    "buf[0] = 65\n",
    "buf\n",
    "\n",
    "f = IntFile()\n",
    "f.readinto(buf)\n",
    "buf"
   ]
  },
  {
   "cell_type": "code",
   "execution_count": 2,
   "id": "7e8f2311-921d-4009-b7ea-bf26ce76a9cb",
   "metadata": {},
   "outputs": [
    {
     "name": "stdout",
     "output_type": "stream",
     "text": [
      "b'100101102103104105106107108109110'\n"
     ]
    }
   ],
   "source": [
    "# buffered I/0 one line at a time\n",
    "\n",
    "f = io.BufferedReader(IntFile())\n",
    "for line in f:\n",
    "    print(line)"
   ]
  },
  {
   "cell_type": "code",
   "execution_count": null,
   "id": "8de66d60-9bce-4e90-9345-047923c9189c",
   "metadata": {},
   "outputs": [],
   "source": []
  }
 ],
 "metadata": {
  "kernelspec": {
   "display_name": "Python 3 (ipykernel)",
   "language": "python",
   "name": "python3"
  },
  "language_info": {
   "codemirror_mode": {
    "name": "ipython",
    "version": 3
   },
   "file_extension": ".py",
   "mimetype": "text/x-python",
   "name": "python",
   "nbconvert_exporter": "python",
   "pygments_lexer": "ipython3",
   "version": "3.10.6"
  }
 },
 "nbformat": 4,
 "nbformat_minor": 5
}
